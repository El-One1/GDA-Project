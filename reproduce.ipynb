{
 "cells": [
  {
   "cell_type": "code",
   "execution_count": 8,
   "metadata": {},
   "outputs": [],
   "source": [
    "import torch\n",
    "from torchvision import models, datasets\n",
    "from torch import nn, optim\n",
    "from torch.utils.data import DataLoader, Dataset\n",
    "\n",
    "from PIL import Image\n",
    "import pandas as pd\n",
    "import os"
   ]
  },
  {
   "cell_type": "code",
   "execution_count": 53,
   "metadata": {},
   "outputs": [],
   "source": [
    "class WaterbirdsFullData(Dataset):\n",
    "    def __init__(self, root, metadata_csv, split, transform=None):\n",
    "\n",
    "        self.root = root\n",
    "        self.transform = transform\n",
    "        self.split = 0 if split == 'train' else 1 if split == 'val' else 2\n",
    "\n",
    "        self.metadata = pd.read_csv(metadata_csv)\n",
    "\n",
    "        self.metadata = self.metadata[self.metadata['split'] == self.split]\n",
    "\n",
    "        self.classes = [d for d in os.listdir(root) if os.path.isdir(os.path.join(root, d))]\n",
    "        self.class_to_idx = {self.classes[i]: i for i in range(len(self.classes))}\n",
    "        self.idx_to_class = {i: self.classes[i] for i in range(len(self.classes))}\n",
    "\n",
    "        # Build the full samples list\n",
    "        # Map from image path to metadata row\n",
    "        self.samples = []\n",
    "        for class_name, class_idx in self.class_to_idx.items():\n",
    "            class_folder = os.path.join(root, class_name)\n",
    "            for img_filename in os.listdir(class_folder):\n",
    "                full_img_path = os.path.join(class_folder, img_filename)\n",
    "                metadata_img_filename = os.path.join(class_name, img_filename)\n",
    "\n",
    "                metadata_row = self.metadata[self.metadata['img_filename'] == metadata_img_filename]\n",
    "                if not metadata_row.empty:\n",
    "                    label = class_idx\n",
    "                    strata = metadata_row['place'].values[0]\n",
    "                    self.samples.append((full_img_path, label, strata))\n",
    "    def __len__(self):\n",
    "        return len(self.samples)\n",
    "    \n",
    "    def __getitem__(self, idx):\n",
    "        \"\"\"\n",
    "        Returns:\n",
    "            tuple: (image, class_label, strata)\n",
    "        \"\"\"\n",
    "        img_path, label, strata = self.samples[idx]\n",
    "\n",
    "        # Load the image\n",
    "        img = Image.open(img_path).convert('RGB')\n",
    "\n",
    "        # Apply transformations if provided\n",
    "        if self.transform is not None:\n",
    "            img = self.transform(img)\n",
    "        \n",
    "        return img, label, strata"
   ]
  },
  {
   "cell_type": "code",
   "execution_count": 55,
   "metadata": {},
   "outputs": [],
   "source": [
    "trainset = WaterbirdsFullData('waterbird_complete95_forest2water2', 'waterbird_complete95_forest2water2/metadata.csv', 'train')\n",
    "valset = WaterbirdsFullData('waterbird_complete95_forest2water2', 'waterbird_complete95_forest2water2/metadata.csv', 'val')\n",
    "testset = WaterbirdsFullData('waterbird_complete95_forest2water2', 'waterbird_complete95_forest2water2/metadata.csv', 'test')"
   ]
  }
 ],
 "metadata": {
  "kernelspec": {
   "display_name": "Python 3",
   "language": "python",
   "name": "python3"
  },
  "language_info": {
   "codemirror_mode": {
    "name": "ipython",
    "version": 3
   },
   "file_extension": ".py",
   "mimetype": "text/x-python",
   "name": "python",
   "nbconvert_exporter": "python",
   "pygments_lexer": "ipython3",
   "version": "3.12.3"
  }
 },
 "nbformat": 4,
 "nbformat_minor": 2
}
